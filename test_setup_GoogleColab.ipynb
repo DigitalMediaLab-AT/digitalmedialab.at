{
  "cells": [
    {
      "cell_type": "markdown",
      "metadata": {
        "id": "8FmzBvab393r"
      },
      "source": [
        "# Test Setup for digitalmedialab.at\n",
        "Test Setup for building the Jekyll website [digitalmedialab.at](https://github.com/DigitalMediaLab-AT/digitalmedialab.at/) on Google Colab (and potentially any other Linux system).\n",
        "\n",
        "\n",
        "## Install Essentials\n",
        "First let's install Ruby with `apt-get` and then Jekyll and Bundler using `gem`."
      ]
    },
    {
      "cell_type": "code",
      "execution_count": null,
      "metadata": {
        "colab": {
          "base_uri": "https://localhost:8080/"
        },
        "id": "gM2PZHMQ2vYa",
        "outputId": "0b8788cd-8c57-47fa-d1ea-b035a2969ee8"
      },
      "outputs": [],
      "source": [
        "!apt-get install ruby-dev\n",
        "!gem install jekyll bundler"
      ]
    },
    {
      "cell_type": "markdown",
      "metadata": {
        "id": "-hOLFM5w6AqI"
      },
      "source": [
        "## Clone and Bundle Dependencies\n",
        "Clone repository and install the dependencies in the Gemfile.\n",
        "Git clone puts the repository in a folder called `digitalmedialab.at` in the current directory.\n",
        "We have to change into this directory to install the dependencies. Therefore, we put `cd digitalmedialab.at &&` before any Jekyll commands."
      ]
    },
    {
      "cell_type": "code",
      "execution_count": null,
      "metadata": {
        "colab": {
          "base_uri": "https://localhost:8080/"
        },
        "id": "AYVYfhIf3egA",
        "outputId": "1a264852-f28e-41db-94c9-5b3fb31f17f7"
      },
      "outputs": [],
      "source": [
        "!git clone https://github.com/DigitalMedialab-at/digitalmedialab.at\n",
        "!cd digitalmedialab.at && bundle install"
      ]
    },
    {
      "cell_type": "markdown",
      "metadata": {
        "id": "Bw87SJrS6Hpw"
      },
      "source": [
        "## Build the Jekyll Site.\n",
        "First check for errors with the `doctor` parmater.\n",
        "Afterwards build it with `build`. The result lands in the `_site` folder."
      ]
    },
    {
      "cell_type": "code",
      "execution_count": null,
      "metadata": {
        "colab": {
          "base_uri": "https://localhost:8080/"
        },
        "id": "pfYU1wrl4OS7",
        "outputId": "bd139594-7477-4348-f4e5-2007adbaf9bb"
      },
      "outputs": [],
      "source": [
        "!cd digitalmedialab.at && bundle exec jekyll doctor\n",
        "!cd digitalmedialab.at && bundle exec jekyll build"
      ]
    },
    {
      "cell_type": "markdown",
      "metadata": {
        "id": "RxHP9QCD7b6n"
      },
      "source": [
        "## Serving the Jekyll Site\n",
        "We can also serve the website. So far, however, I haven't found a way for viewing the site."
      ]
    },
    {
      "cell_type": "code",
      "execution_count": null,
      "metadata": {
        "colab": {
          "base_uri": "https://localhost:8080/"
        },
        "id": "v6qfYIBO7mIA",
        "outputId": "8e9608e5-98cc-48cd-f375-566b02ea072b"
      },
      "outputs": [],
      "source": [
        "!cd digitalmedialab.at && bundle exec jekyll serve"
      ]
    }
  ],
  "metadata": {
    "colab": {
      "provenance": []
    },
    "kernelspec": {
      "display_name": "Python 3",
      "name": "python3"
    },
    "language_info": {
      "name": "python"
    }
  },
  "nbformat": 4,
  "nbformat_minor": 0
}
